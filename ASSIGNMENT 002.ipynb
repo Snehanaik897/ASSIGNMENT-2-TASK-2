{
 "cells": [
  {
   "cell_type": "markdown",
   "metadata": {},
   "source": [
    "Task 2:1.1Write a Python Program(with class concepts) to find the area of the triangle using the belowformula.area = (s*(s-a)*(s-b)*(s-c)) ** 0.5Function to take the length of the sides of triangle from user should be defined in the parentclass and function to calculate the area should be defined in subclass. \n"
   ]
  },
  {
   "cell_type": "code",
   "execution_count": 5,
   "metadata": {},
   "outputs": [
    {
     "name": "stdout",
     "output_type": "stream",
     "text": [
      "Enter the length  of base 3\n",
      "Enter the length of Height  4\n",
      "Enter the length of Hypotenuse  5\n",
      "Area of a Triangle is 6.000000\n"
     ]
    }
   ],
   "source": [
    "\n",
    "\n",
    "a=int(input(\"Enter the length  of base \"))\n",
    "b=int(input(\"Enter the length of Height  \"))\n",
    "c=int(input(\"Enter the length of Hypotenuse  \"))\n",
    "\n",
    "class Triangle():\n",
    "    def __init__(self,a,b,c):\n",
    "        self.a=a\n",
    "        self.b=b\n",
    "        self.c=c\n",
    "    \n",
    "    \n",
    "class area(Triangle):\n",
    "    def __init__(self,*args):\n",
    "        super(area,self).__init__(*args) \n",
    "    def area(self):\n",
    "        s = (self.a + self.b + self.c)/2\n",
    "        area1=(s*(s-self.a)*(s-self.b)*(s-self.c))**0.5\n",
    "        return (\"Area of a Triangle is %f\" % area1)\n",
    "\n",
    "t=area(a,b,c)\n",
    "print(t.area())\n",
    "        \n",
    "    "
   ]
  },
  {
   "cell_type": "markdown",
   "metadata": {},
   "source": [
    "1.2 Write a function filter_long_words() that takes a list of words and an integer n and returns the listof words that are longer than n."
   ]
  },
  {
   "cell_type": "code",
   "execution_count": 10,
   "metadata": {},
   "outputs": [
    {
     "name": "stdout",
     "output_type": "stream",
     "text": [
      "Enter the List of words: life,is,really,simple,but,we,insist,on,making,it,complicated\n",
      "Enter an integer of min length:5\n",
      "The longest of the word with min Length: ['really', 'simple', 'insist', 'making', 'complicated']\n"
     ]
    }
   ],
   "source": [
    "def filter_long_words(string,n):\n",
    "    \n",
    "        list_words=[]\n",
    "        for x in string:\n",
    "            if (len(x)>=n):\n",
    "                list_words.append(x)\n",
    "        return list_words\n",
    "        \n",
    "\n",
    "words=input(\"Enter the List of words: \")\n",
    "words1=words.split(\",\")\n",
    "integer=input(\"Enter an integer of min length:\")  \n",
    "long=filter_long_words(words1,int(integer))\n",
    "    \n",
    "print(\"The longest of the word with min Length:\",long)\n",
    "\n"
   ]
  },
  {
   "cell_type": "markdown",
   "metadata": {},
   "source": [
    "2.1  \n",
    "Write a Python program using function concept that maps  list of words into a list of integersrepresenting the lengths of the corresponding words​.Hint: ​If a list [ ab,cde,erty] is passed on to the python function output should come as [2,3,4]Here 2,3 and 4 are the lengths of the words in the list."
   ]
  },
  {
   "cell_type": "code",
   "execution_count": 25,
   "metadata": {},
   "outputs": [
    {
     "name": "stdout",
     "output_type": "stream",
     "text": [
      "Hello [ 5 ]\n",
      "Python [ 6 ]\n",
      "World [ 5 ]\n"
     ]
    }
   ],
   "source": [
    "def words(str):\n",
    "    str=str.split(' ')\n",
    "    for x in str:\n",
    "        print(x,\"[\",len(x), \"]\") \n",
    "        \n",
    "words(\"Hello Python World\")\n",
    "\n",
    "          "
   ]
  },
  {
   "cell_type": "markdown",
   "metadata": {},
   "source": [
    "2.2Write a Python function which takes a character (i.e. a string of length 1) and returns True if it isa vowel, False otherwise."
   ]
  },
  {
   "cell_type": "code",
   "execution_count": 36,
   "metadata": {},
   "outputs": [
    {
     "name": "stdout",
     "output_type": "stream",
     "text": [
      "True\n",
      "False\n",
      "True\n"
     ]
    }
   ],
   "source": [
    "def vowel(x):\n",
    "    if (x =='a' or x == 'e' or x == 'i' or x =='o'or x =='u' or \n",
    "        x =='A'or x =='E'or x=='I'or x=='O'or x=='U'):\n",
    "        print(\"True\")\n",
    "    else:\n",
    "        print(\"False\")\n",
    "        \n",
    "vowel('a')\n",
    "vowel('b')\n",
    "vowel('O')"
   ]
  },
  {
   "cell_type": "code",
   "execution_count": null,
   "metadata": {},
   "outputs": [],
   "source": []
  }
 ],
 "metadata": {
  "kernelspec": {
   "display_name": "Python 3",
   "language": "python",
   "name": "python3"
  },
  "language_info": {
   "codemirror_mode": {
    "name": "ipython",
    "version": 3
   },
   "file_extension": ".py",
   "mimetype": "text/x-python",
   "name": "python",
   "nbconvert_exporter": "python",
   "pygments_lexer": "ipython3",
   "version": "3.7.4"
  }
 },
 "nbformat": 4,
 "nbformat_minor": 2
}
